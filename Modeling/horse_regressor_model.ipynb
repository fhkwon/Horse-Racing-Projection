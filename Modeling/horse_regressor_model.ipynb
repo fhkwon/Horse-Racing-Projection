{
 "cells": [
  {
   "cell_type": "markdown",
   "metadata": {
    "id": "URJpOHGW2HiB"
   },
   "source": [
    "# Horse Racing prediction"
   ]
  },
  {
   "cell_type": "code",
   "execution_count": 1,
   "metadata": {
    "colab": {
     "base_uri": "https://localhost:8080/"
    },
    "id": "QSFDbemsz5bJ",
    "outputId": "216e5b5e-3593-4c30-beb8-a2cd038c17b9"
   },
   "outputs": [],
   "source": [
    "# 설치 라이브러리 \n",
    "# ! pip install optuna\n",
    "# ! pip install lightgbm\n",
    "# ! pip install --upgrade pandas"
   ]
  },
  {
   "cell_type": "code",
   "execution_count": 2,
   "metadata": {
    "id": "70X5s-Oud_1e"
   },
   "outputs": [],
   "source": [
    "# 기본 라이브러리\n",
    "import pandas as pd\n",
    "import numpy as np\n",
    "\n",
    "# 시각화 라이브러리 \n",
    "import matplotlib.pyplot as plt\n",
    "import seaborn as sns\n",
    "\n",
    "# 모델 평가 라이브러리\n",
    "from sklearn.metrics import accuracy_score\n",
    "\n",
    "# 인코딩 라이브러리\n",
    "from sklearn.preprocessing import LabelEncoder\n",
    "from sklearn.preprocessing import MinMaxScaler\n",
    "\n",
    "# 모델링 라이브러리\n",
    "from sklearn.model_selection import train_test_split\n",
    "from sklearn.model_selection import StratifiedKFold\n",
    "from sklearn.model_selection import KFold\n",
    "from sklearn.model_selection import RepeatedKFold\n",
    "\n",
    "# 회귀 라이브러리\n",
    "from sklearn.ensemble import RandomForestRegressor\n",
    "from sklearn.neighbors import KNeighborsRegressor\n",
    "from sklearn.linear_model import LogisticRegression\n",
    "from sklearn.ensemble import VotingRegressor\n",
    "from lightgbm import LGBMRegressor\n",
    "import xgboost \n",
    "from xgboost import XGBRegressor\n",
    "\n",
    "# 모델 파라미터 \n",
    "from sklearn.model_selection import cross_val_score\n",
    "from sklearn.metrics import r2_score, mean_squared_error\n",
    "from sklearn.model_selection import GridSearchCV\n",
    "from sklearn.model_selection import RandomizedSearchCV\n",
    "import joblib\n",
    "import optuna"
   ]
  },
  {
   "cell_type": "code",
   "execution_count": 3,
   "metadata": {},
   "outputs": [],
   "source": [
    "# 그래프 한글 표현\n",
    "plt.rc('font', family='Malgun Gothic')"
   ]
  },
  {
   "cell_type": "code",
   "execution_count": 4,
   "metadata": {
    "colab": {
     "base_uri": "https://localhost:8080/",
     "height": 650
    },
    "id": "HhOz2-SokPpZ",
    "outputId": "2a0c8dcb-c3fe-4a18-a90b-8fbb1cdf0158"
   },
   "outputs": [],
   "source": [
    "# 데이터 호출\n",
    "horse_path = \"full_df(regressor).csv\"\n",
    "data_DF = pd.read_csv(horse_path, encoding = \"cp949\")\n",
    "data_DF = data_DF.drop(columns = \"Unnamed: 0\")"
   ]
  },
  {
   "cell_type": "code",
   "execution_count": 6,
   "metadata": {},
   "outputs": [
    {
     "data": {
      "text/plain": [
       "12    3614\n",
       "14    2262\n",
       "13    1362\n",
       "10    1008\n",
       "18     941\n",
       "17     869\n",
       "20     184\n",
       "16     109\n",
       "23       8\n",
       "Name: 거리, dtype: int64"
      ]
     },
     "execution_count": 6,
     "metadata": {},
     "output_type": "execute_result"
    }
   ],
   "source": [
    "data_DF[\"거리\"].value_counts()"
   ]
  },
  {
   "cell_type": "markdown",
   "metadata": {},
   "source": [
    "## 모든 거리 경기"
   ]
  },
  {
   "cell_type": "code",
   "execution_count": 8,
   "metadata": {},
   "outputs": [
    {
     "name": "stdout",
     "output_type": "stream",
     "text": [
      "<class 'pandas.core.frame.DataFrame'>\n",
      "RangeIndex: 10357 entries, 0 to 10356\n",
      "Columns: 104 entries, 부마성적 to 모마성적13\n",
      "dtypes: float64(85), int64(19)\n",
      "memory usage: 8.2 MB\n"
     ]
    }
   ],
   "source": [
    "data_DF.info()"
   ]
  },
  {
   "cell_type": "code",
   "execution_count": 9,
   "metadata": {},
   "outputs": [
    {
     "data": {
      "text/plain": [
       "count    10357.000000\n",
       "mean        86.687496\n",
       "std         17.387451\n",
       "min         59.200000\n",
       "25%         75.400000\n",
       "50%         82.400000\n",
       "75%         89.700000\n",
       "max        154.200000\n",
       "Name: 기록, dtype: float64"
      ]
     },
     "execution_count": 9,
     "metadata": {},
     "output_type": "execute_result"
    }
   ],
   "source": [
    "# 모든 거리의 데이터 탐색\n",
    "data_DF[\"기록\"].describe()"
   ]
  },
  {
   "cell_type": "code",
   "execution_count": 10,
   "metadata": {},
   "outputs": [],
   "source": [
    "# 거리 별로 데이터 나누기\n",
    "space_10 = data_DF[data_DF[\"거리\"] == 10]\n",
    "space_12= data_DF[data_DF[\"거리\"] == 12]\n",
    "space_13= data_DF[data_DF[\"거리\"] == 13]\n",
    "space_14 = data_DF[data_DF[\"거리\"] == 14]\n",
    "space_15 = data_DF[data_DF[\"거리\"] == 15]\n",
    "space_16 = data_DF[data_DF[\"거리\"] == 16]\n",
    "space_17 = data_DF[data_DF[\"거리\"] == 17]\n",
    "space_18 = data_DF[data_DF[\"거리\"] == 18]"
   ]
  },
  {
   "cell_type": "markdown",
   "metadata": {},
   "source": [
    "## 1000m 경기"
   ]
  },
  {
   "cell_type": "code",
   "execution_count": 11,
   "metadata": {},
   "outputs": [
    {
     "data": {
      "text/plain": [
       "64.6"
      ]
     },
     "execution_count": 11,
     "metadata": {},
     "output_type": "execute_result"
    }
   ],
   "source": [
    "des = space_10[\"기록\"].describe()\n",
    "IQR = des.loc[\"75%\"] - des.loc[\"25%\"]\n",
    "max_10 = des.loc[\"75%\"] + (1,5 * IQR)\n",
    "max_10[0]"
   ]
  },
  {
   "cell_type": "code",
   "execution_count": 12,
   "metadata": {},
   "outputs": [
    {
     "data": {
      "image/png": "[encoded data removed]",
      "text/plain": [
       "<Figure size 500x500 with 1 Axes>"
      ]
     },
     "metadata": {},
     "output_type": "display_data"
    }
   ],
   "source": [
    "# 1000m 경기 분포\n",
    "sns.lmplot(data=space_10, x = \"기록\", y = \"순위\")\n",
    "plt.show()"
   ]
  },
  {
   "cell_type": "code",
   "execution_count": 13,
   "metadata": {},
   "outputs": [],
   "source": [
    "# 실격 및 주행정지로 인한 drop\n",
    "space_index = space_10[space_10[\"기록\"] > max_10[0]+10].index\n",
    "data_DF_10 = space_10.copy()\n",
    "data_DF_10.drop(index = space_index, inplace=True)"
   ]
  },
  {
   "cell_type": "code",
   "execution_count": 14,
   "metadata": {},
   "outputs": [],
   "source": [
    "data_DF_10.reset_index(drop=True, inplace=True)"
   ]
  },
  {
   "cell_type": "code",
   "execution_count": 15,
   "metadata": {},
   "outputs": [
    {
     "data": {
      "image/png": "[encoded data removed]",
      "text/plain": [
       "<Figure size 500x500 with 1 Axes>"
      ]
     },
     "metadata": {},
     "output_type": "display_data"
    }
   ],
   "source": [
    "sns.lmplot(data=data_DF_10, x = \"기록\", y = \"순위\")\n",
    "plt.show()"
   ]
  },
  {
   "cell_type": "code",
   "execution_count": 16,
   "metadata": {},
   "outputs": [
    {
     "data": {
      "text/plain": [
       "count    1006.000000\n",
       "mean       62.784294\n",
       "std         1.245590\n",
       "min        59.200000\n",
       "25%        61.900000\n",
       "50%        62.800000\n",
       "75%        63.600000\n",
       "max        70.700000\n",
       "Name: 기록, dtype: float64"
      ]
     },
     "execution_count": 16,
     "metadata": {},
     "output_type": "execute_result"
    }
   ],
   "source": [
    "data_DF_10[\"기록\"].describe()"
   ]
  },
  {
   "cell_type": "markdown",
   "metadata": {},
   "source": [
    "## 1200m 경기"
   ]
  },
  {
   "cell_type": "code",
   "execution_count": 17,
   "metadata": {},
   "outputs": [
    {
     "data": {
      "text/plain": [
       "77.9"
      ]
     },
     "execution_count": 17,
     "metadata": {},
     "output_type": "execute_result"
    }
   ],
   "source": [
    "# 1200m 거리의 사분위수 범위 계산\n",
    "des = space_12[\"기록\"].describe()\n",
    "IQR = des.loc[\"75%\"] - des.loc[\"25%\"]\n",
    "max_12 = des.loc[\"75%\"] + (1,5 * IQR)\n",
    "max_12[0]"
   ]
  },
  {
   "cell_type": "code",
   "execution_count": 18,
   "metadata": {},
   "outputs": [
    {
     "data": {
      "image/png": "[encoded data removed]",
      "text/plain": [
       "<Figure size 500x500 with 1 Axes>"
      ]
     },
     "metadata": {},
     "output_type": "display_data"
    }
   ],
   "source": [
    "# 1200m 경기 분포\n",
    "sns.lmplot(data=space_12, x = \"기록\", y = \"순위\")\n",
    "plt.show()"
   ]
  },
  {
   "cell_type": "code",
   "execution_count": 19,
   "metadata": {},
   "outputs": [],
   "source": [
    "# 실격 및 주행정지로 인한 drop\n",
    "space_index = space_12[space_12[\"기록\"] > max_12[0]+5].index\n",
    "data_DF_12 = space_12.copy()\n",
    "data_DF_12.drop(index = space_index, inplace=True)"
   ]
  },
  {
   "cell_type": "code",
   "execution_count": 20,
   "metadata": {},
   "outputs": [],
   "source": [
    "data_DF_12.reset_index(drop=True, inplace=True)"
   ]
  },
  {
   "cell_type": "code",
   "execution_count": 21,
   "metadata": {},
   "outputs": [
    {
     "data": {
      "image/png": "[encoded data removed]",
      "text/plain": [
       "<Figure size 500x500 with 1 Axes>"
      ]
     },
     "metadata": {},
     "output_type": "display_data"
    }
   ],
   "source": [
    "sns.lmplot(data=data_DF_12, x = \"기록\", y = \"순위\")\n",
    "plt.show()"
   ]
  },
  {
   "cell_type": "code",
   "execution_count": 22,
   "metadata": {},
   "outputs": [
    {
     "data": {
      "text/plain": [
       "count    3586.000000\n",
       "mean       75.757501\n",
       "std         1.695636\n",
       "min        70.500000\n",
       "25%        74.600000\n",
       "50%        75.700000\n",
       "75%        76.800000\n",
       "max        82.900000\n",
       "Name: 기록, dtype: float64"
      ]
     },
     "execution_count": 22,
     "metadata": {},
     "output_type": "execute_result"
    }
   ],
   "source": [
    "data_DF_12[\"기록\"].describe()"
   ]
  },
  {
   "cell_type": "markdown",
   "metadata": {},
   "source": [
    "## 1300m 경기"
   ]
  },
  {
   "cell_type": "code",
   "execution_count": 23,
   "metadata": {},
   "outputs": [
    {
     "data": {
      "text/plain": [
       "84.7"
      ]
     },
     "execution_count": 23,
     "metadata": {},
     "output_type": "execute_result"
    }
   ],
   "source": [
    "# 1300m 거리의 사분위수 범위 계산\n",
    "des = space_13[\"기록\"].describe()\n",
    "IQR = des.loc[\"75%\"] - des.loc[\"25%\"]\n",
    "max_13 = des.loc[\"75%\"] + (1,5 * IQR)\n",
    "max_13[0]"
   ]
  },
  {
   "cell_type": "code",
   "execution_count": 24,
   "metadata": {},
   "outputs": [
    {
     "data": {
      "image/png": "[encoded data removed]",
      "text/plain": [
       "<Figure size 500x500 with 1 Axes>"
      ]
     },
     "metadata": {},
     "output_type": "display_data"
    }
   ],
   "source": [
    "sns.lmplot(data=space_13, x = \"기록\", y = \"순위\")\n",
    "plt.show()"
   ]
  },
  {
   "cell_type": "code",
   "execution_count": 25,
   "metadata": {},
   "outputs": [],
   "source": [
    "# 실격 및 주행정지로 인한 drop\n",
    "space_index = space_13[space_13[\"기록\"] > max_13[0]+10].index\n",
    "data_DF_13 = space_13.copy()\n",
    "data_DF_13.drop(index = space_index, inplace=True, axis=1)"
   ]
  },
  {
   "cell_type": "code",
   "execution_count": 26,
   "metadata": {},
   "outputs": [],
   "source": [
    "data_DF_13.reset_index(drop=True, inplace=True)"
   ]
  },
  {
   "cell_type": "code",
   "execution_count": 27,
   "metadata": {},
   "outputs": [
    {
     "data": {
      "image/png": "[encoded data removed]",
      "text/plain": [
       "<Figure size 500x500 with 1 Axes>"
      ]
     },
     "metadata": {},
     "output_type": "display_data"
    }
   ],
   "source": [
    "sns.lmplot(data=data_DF_13, x = \"기록\", y = \"순위\")\n",
    "plt.show()"
   ]
  },
  {
   "cell_type": "code",
   "execution_count": 28,
   "metadata": {},
   "outputs": [
    {
     "data": {
      "text/plain": [
       "count    1357.000000\n",
       "mean       82.812970\n",
       "std         1.532117\n",
       "min        78.400000\n",
       "25%        81.800000\n",
       "50%        82.700000\n",
       "75%        83.700000\n",
       "max        93.600000\n",
       "Name: 기록, dtype: float64"
      ]
     },
     "execution_count": 28,
     "metadata": {},
     "output_type": "execute_result"
    }
   ],
   "source": [
    "data_DF_13[\"기록\"].describe()"
   ]
  },
  {
   "cell_type": "markdown",
   "metadata": {},
   "source": [
    "## 1400m 경기 "
   ]
  },
  {
   "cell_type": "code",
   "execution_count": 29,
   "metadata": {},
   "outputs": [
    {
     "data": {
      "text/plain": [
       "90.4"
      ]
     },
     "execution_count": 29,
     "metadata": {},
     "output_type": "execute_result"
    }
   ],
   "source": [
    "# 1400m 거리의 사분위수 범위 계산\n",
    "des = space_14[\"기록\"].describe()\n",
    "IQR = des.loc[\"75%\"] - des.loc[\"25%\"]\n",
    "max_14 = des.loc[\"75%\"] + (1,5 * IQR)\n",
    "max_14[0]"
   ]
  },
  {
   "cell_type": "code",
   "execution_count": 30,
   "metadata": {},
   "outputs": [
    {
     "data": {
      "image/png": "[encoded data removed]",
      "text/plain": [
       "<Figure size 500x500 with 1 Axes>"
      ]
     },
     "metadata": {},
     "output_type": "display_data"
    }
   ],
   "source": [
    "sns.lmplot(data=space_14, x = \"기록\", y = \"순위\")\n",
    "plt.show()"
   ]
  },
  {
   "cell_type": "code",
   "execution_count": 31,
   "metadata": {},
   "outputs": [],
   "source": [
    "# 실격 및 주행정지로 인한 drop\n",
    "space_index = space_14[space_14[\"기록\"] > max_14[0]+10].index\n",
    "data_DF_14 = space_14.copy()\n",
    "data_DF_14.drop(index = space_index, inplace=True, axis=1)"
   ]
  },
  {
   "cell_type": "code",
   "execution_count": 32,
   "metadata": {},
   "outputs": [],
   "source": [
    "data_DF_14.reset_index(drop=True, inplace=True)"
   ]
  },
  {
   "cell_type": "code",
   "execution_count": 33,
   "metadata": {},
   "outputs": [
    {
     "name": "stderr",
     "output_type": "stream",
     "text": [
      "C:\\Users\\sjm24\\anaconda3\\lib\\site-packages\\seaborn\\axisgrid.py:88: UserWarning: Glyph 8722 (\\N{MINUS SIGN}) missing from current font.\n",
      "  self._figure.tight_layout(*args, **kwargs)\n",
      "C:\\Users\\sjm24\\anaconda3\\lib\\site-packages\\IPython\\core\\pylabtools.py:151: UserWarning: Glyph 8722 (\\N{MINUS SIGN}) missing from current font.\n",
      "  fig.canvas.print_figure(bytes_io, **kw)\n"
     ]
    },
    {
     "data": {
      "image/png": "[encoded data removed]",
      "text/plain": [
       "<Figure size 500x500 with 1 Axes>"
      ]
     },
     "metadata": {},
     "output_type": "display_data"
    }
   ],
   "source": [
    "sns.lmplot(data=data_DF_14, x = \"기록\", y = \"순위\")\n",
    "plt.show()"
   ]
  },
  {
   "cell_type": "code",
   "execution_count": 34,
   "metadata": {},
   "outputs": [
    {
     "data": {
      "text/plain": [
       "count    2254.000000\n",
       "mean       88.406122\n",
       "std         1.600887\n",
       "min        82.400000\n",
       "25%        87.400000\n",
       "50%        88.400000\n",
       "75%        89.400000\n",
       "max        95.600000\n",
       "Name: 기록, dtype: float64"
      ]
     },
     "execution_count": 34,
     "metadata": {},
     "output_type": "execute_result"
    }
   ],
   "source": [
    "data_DF_14[\"기록\"].describe()"
   ]
  },
  {
   "cell_type": "markdown",
   "metadata": {},
   "source": [
    "## 1500m"
   ]
  },
  {
   "cell_type": "code",
   "execution_count": 35,
   "metadata": {},
   "outputs": [
    {
     "data": {
      "text/plain": [
       "119.9"
      ]
     },
     "execution_count": 35,
     "metadata": {},
     "output_type": "execute_result"
    }
   ],
   "source": [
    "# 1500m 거리의 사분위수 범위 계산\n",
    "des = space_15[\"기록\"].describe()\n",
    "IQR = des.loc[\"75%\"] - des.loc[\"25%\"]\n",
    "max_15 = des.loc[\"75%\"] + (1,5 * IQR)\n",
    "max_15[0]"
   ]
  },
  {
   "cell_type": "code",
   "execution_count": 36,
   "metadata": {},
   "outputs": [
    {
     "data": {
      "image/png": "[encoded data removed]",
      "text/plain": [
       "<Figure size 500x500 with 1 Axes>"
      ]
     },
     "metadata": {},
     "output_type": "display_data"
    }
   ],
   "source": [
    "# 1500m 경기 분포\n",
    "sns.lmplot(data=space_15, x = \"기록\", y = \"순위\")\n",
    "plt.show()"
   ]
  },
  {
   "cell_type": "code",
   "execution_count": 37,
   "metadata": {},
   "outputs": [],
   "source": [
    "# 실격 및 주행정지로 인한 drop\n",
    "space_index = space_15[space_15[\"기록\"] > 140].index\n",
    "data_DF_long = space_15.copy()\n",
    "data_DF_long.drop(index = space_index, inplace=True, axis=1)"
   ]
  },
  {
   "cell_type": "code",
   "execution_count": 38,
   "metadata": {},
   "outputs": [],
   "source": [
    "data_DF_long.reset_index(drop=True, inplace=True)"
   ]
  },
  {
   "cell_type": "code",
   "execution_count": 39,
   "metadata": {},
   "outputs": [
    {
     "data": {
      "image/png": "[encoded data removed]",
      "text/plain": [
       "<Figure size 500x500 with 1 Axes>"
      ]
     },
     "metadata": {},
     "output_type": "display_data"
    }
   ],
   "source": [
    "sns.lmplot(data=data_DF_long, x = \"기록\", y = \"순위\")\n",
    "plt.show()"
   ]
  },
  {
   "cell_type": "code",
   "execution_count": 40,
   "metadata": {},
   "outputs": [
    {
     "data": {
      "text/plain": [
       "count    2101.000000\n",
       "mean      116.298144\n",
       "std         6.318002\n",
       "min        99.800000\n",
       "25%       112.600000\n",
       "50%       116.200000\n",
       "75%       118.900000\n",
       "max       138.800000\n",
       "Name: 기록, dtype: float64"
      ]
     },
     "execution_count": 40,
     "metadata": {},
     "output_type": "execute_result"
    }
   ],
   "source": [
    "data_DF_long[\"기록\"].describe()"
   ]
  },
  {
   "cell_type": "markdown",
   "metadata": {},
   "source": [
    "## 1600m"
   ]
  },
  {
   "cell_type": "code",
   "execution_count": null,
   "metadata": {},
   "outputs": [],
   "source": [
    "# 1600m 거리의 사분위수 범위 계산\n",
    "des = space_16[\"기록\"].describe()\n",
    "IQR = des.loc[\"75%\"] - des.loc[\"25%\"]\n",
    "max_16 = des.loc[\"75%\"] + (1,5 * IQR)\n",
    "max_16[0]"
   ]
  },
  {
   "cell_type": "code",
   "execution_count": null,
   "metadata": {},
   "outputs": [],
   "source": [
    "# 1600m 경기 분포\n",
    "sns.lmplot(data=space_16, x = \"기록\", y = \"순위\")\n",
    "plt.show()"
   ]
  },
  {
   "cell_type": "code",
   "execution_count": null,
   "metadata": {},
   "outputs": [],
   "source": [
    "# 실격 및 주행정지로 인한 drop\n",
    "space_index = space_16[space_16[\"기록\"] > 140].index\n",
    "data_DF_16 = space_16.copy()\n",
    "data_DF_16.drop(index = space_index, inplace=True, axis=1)\n",
    "data_DF_16.reset_index(drop=True, inplace=True)"
   ]
  },
  {
   "cell_type": "code",
   "execution_count": null,
   "metadata": {},
   "outputs": [],
   "source": [
    "sns.lmplot(data=data_DF_16, x = \"기록\", y = \"순위\")\n",
    "plt.show()"
   ]
  },
  {
   "cell_type": "code",
   "execution_count": null,
   "metadata": {},
   "outputs": [],
   "source": [
    "data_DF_16[\"기록\"].describe()"
   ]
  },
  {
   "cell_type": "markdown",
   "metadata": {},
   "source": [
    "## 1700m"
   ]
  },
  {
   "cell_type": "code",
   "execution_count": null,
   "metadata": {},
   "outputs": [],
   "source": [
    "# 1700m 거리의 사분위수 범위 계산\n",
    "des = space_17[\"기록\"].describe()\n",
    "IQR = des.loc[\"75%\"] - des.loc[\"25%\"]\n",
    "max_17 = des.loc[\"75%\"] + (1,5 * IQR)\n",
    "max_17[0]"
   ]
  },
  {
   "cell_type": "code",
   "execution_count": null,
   "metadata": {},
   "outputs": [],
   "source": [
    "# 1700m 경기 분포\n",
    "sns.lmplot(data=space_17, x = \"기록\", y = \"순위\")\n",
    "plt.show()"
   ]
  },
  {
   "cell_type": "code",
   "execution_count": null,
   "metadata": {},
   "outputs": [],
   "source": [
    "# 실격 및 주행정지로 인한 drop\n",
    "space_index = space_17[space_17[\"기록\"] > 140].index\n",
    "data_DF_17 = space_17.copy()\n",
    "data_DF_17.drop(index = space_index, inplace=True, axis=1)\n",
    "data_DF_17.reset_index(drop=True, inplace=True)"
   ]
  },
  {
   "cell_type": "code",
   "execution_count": null,
   "metadata": {},
   "outputs": [],
   "source": [
    "sns.lmplot(data=data_DF_17, x = \"기록\", y = \"순위\")\n",
    "plt.show()"
   ]
  },
  {
   "cell_type": "code",
   "execution_count": null,
   "metadata": {},
   "outputs": [],
   "source": [
    "data_DF_17[\"기록\"].describe()"
   ]
  },
  {
   "cell_type": "markdown",
   "metadata": {},
   "source": [
    "## 1800m"
   ]
  },
  {
   "cell_type": "code",
   "execution_count": null,
   "metadata": {},
   "outputs": [],
   "source": [
    "des = space_18[\"기록\"].describe()\n",
    "IQR = des.loc[\"75%\"] - des.loc[\"25%\"]\n",
    "max_18 = des.loc[\"75%\"] + (1,5 * IQR)\n",
    "max_18[0]"
   ]
  },
  {
   "cell_type": "code",
   "execution_count": null,
   "metadata": {},
   "outputs": [],
   "source": [
    "sns.lmplot(data=space_18, x = \"기록\", y = \"순위\")\n",
    "plt.show()"
   ]
  },
  {
   "cell_type": "code",
   "execution_count": null,
   "metadata": {},
   "outputs": [],
   "source": [
    "# 실격 및 주행정지로 인한 drop\n",
    "space_index = space_18[space_18[\"기록\"] > 140].index\n",
    "data_DF_18 = space_18.copy()\n",
    "data_DF_18.drop(index = space_index, inplace=True, axis=1)\n",
    "data_DF_18.reset_index(drop=True, inplace=True)"
   ]
  },
  {
   "cell_type": "code",
   "execution_count": null,
   "metadata": {},
   "outputs": [],
   "source": [
    "sns.lmplot(data=data_DF_18, x = \"기록\", y = \"순위\")\n",
    "plt.show()"
   ]
  },
  {
   "cell_type": "code",
   "execution_count": null,
   "metadata": {},
   "outputs": [],
   "source": [
    "data_DF_18[\"기록\"].describe()"
   ]
  },
  {
   "cell_type": "markdown",
   "metadata": {},
   "source": [
    "## 순위 컬럼 삭제"
   ]
  },
  {
   "cell_type": "code",
   "execution_count": 41,
   "metadata": {},
   "outputs": [
    {
     "data": {
      "text/html": [
       "<div>\n",
       "<style scoped>\n",
       "    .dataframe tbody tr th:only-of-type {\n",
       "        vertical-align: middle;\n",
       "    }\n",
       "\n",
       "    .dataframe tbody tr th {\n",
       "        vertical-align: top;\n",
       "    }\n",
       "\n",
       "    .dataframe thead th {\n",
       "        text-align: right;\n",
       "    }\n",
       "</style>\n",
       "<table border=\"1\" class=\"dataframe\">\n",
       "  <thead>\n",
       "    <tr style=\"text-align: right;\">\n",
       "      <th></th>\n",
       "      <th>부마성적</th>\n",
       "      <th>모마성적</th>\n",
       "      <th>조교사 점수</th>\n",
       "      <th>기수 점수</th>\n",
       "      <th>거리</th>\n",
       "      <th>군(등급)</th>\n",
       "      <th>번호</th>\n",
       "      <th>주로상태</th>\n",
       "      <th>기록</th>\n",
       "      <th>부담중량</th>\n",
       "      <th>...</th>\n",
       "      <th>기수 점수12</th>\n",
       "      <th>부마성적12</th>\n",
       "      <th>모마성적12</th>\n",
       "      <th>부담중량13</th>\n",
       "      <th>마체중13</th>\n",
       "      <th>순위 점수13</th>\n",
       "      <th>조교사 점수13</th>\n",
       "      <th>기수 점수13</th>\n",
       "      <th>부마성적13</th>\n",
       "      <th>모마성적13</th>\n",
       "    </tr>\n",
       "  </thead>\n",
       "  <tbody>\n",
       "    <tr>\n",
       "      <th>0</th>\n",
       "      <td>20.166667</td>\n",
       "      <td>0.333333</td>\n",
       "      <td>0.260867</td>\n",
       "      <td>0.375748</td>\n",
       "      <td>14</td>\n",
       "      <td>1</td>\n",
       "      <td>3</td>\n",
       "      <td>0</td>\n",
       "      <td>84.3</td>\n",
       "      <td>54.5</td>\n",
       "      <td>...</td>\n",
       "      <td>0.125041</td>\n",
       "      <td>19.064066</td>\n",
       "      <td>12.289275</td>\n",
       "      <td>52.863636</td>\n",
       "      <td>6.202555</td>\n",
       "      <td>0</td>\n",
       "      <td>0.343872</td>\n",
       "      <td>0.125041</td>\n",
       "      <td>19.064066</td>\n",
       "      <td>12.289275</td>\n",
       "    </tr>\n",
       "    <tr>\n",
       "      <th>1</th>\n",
       "      <td>24.312500</td>\n",
       "      <td>18.047619</td>\n",
       "      <td>0.562395</td>\n",
       "      <td>0.013551</td>\n",
       "      <td>14</td>\n",
       "      <td>1</td>\n",
       "      <td>4</td>\n",
       "      <td>0</td>\n",
       "      <td>84.7</td>\n",
       "      <td>51.0</td>\n",
       "      <td>...</td>\n",
       "      <td>0.125041</td>\n",
       "      <td>19.064066</td>\n",
       "      <td>12.289275</td>\n",
       "      <td>52.863636</td>\n",
       "      <td>6.202555</td>\n",
       "      <td>0</td>\n",
       "      <td>0.343872</td>\n",
       "      <td>0.125041</td>\n",
       "      <td>19.064066</td>\n",
       "      <td>12.289275</td>\n",
       "    </tr>\n",
       "    <tr>\n",
       "      <th>2</th>\n",
       "      <td>29.184211</td>\n",
       "      <td>10.226855</td>\n",
       "      <td>0.000000</td>\n",
       "      <td>0.135597</td>\n",
       "      <td>14</td>\n",
       "      <td>1</td>\n",
       "      <td>5</td>\n",
       "      <td>0</td>\n",
       "      <td>85.2</td>\n",
       "      <td>52.0</td>\n",
       "      <td>...</td>\n",
       "      <td>0.125041</td>\n",
       "      <td>19.064066</td>\n",
       "      <td>12.289275</td>\n",
       "      <td>52.863636</td>\n",
       "      <td>6.202555</td>\n",
       "      <td>0</td>\n",
       "      <td>0.343872</td>\n",
       "      <td>0.125041</td>\n",
       "      <td>19.064066</td>\n",
       "      <td>12.289275</td>\n",
       "    </tr>\n",
       "    <tr>\n",
       "      <th>3</th>\n",
       "      <td>18.222222</td>\n",
       "      <td>11.111111</td>\n",
       "      <td>0.254518</td>\n",
       "      <td>0.052286</td>\n",
       "      <td>14</td>\n",
       "      <td>1</td>\n",
       "      <td>10</td>\n",
       "      <td>0</td>\n",
       "      <td>85.3</td>\n",
       "      <td>52.0</td>\n",
       "      <td>...</td>\n",
       "      <td>0.125041</td>\n",
       "      <td>19.064066</td>\n",
       "      <td>12.289275</td>\n",
       "      <td>52.863636</td>\n",
       "      <td>6.202555</td>\n",
       "      <td>0</td>\n",
       "      <td>0.343872</td>\n",
       "      <td>0.125041</td>\n",
       "      <td>19.064066</td>\n",
       "      <td>12.289275</td>\n",
       "    </tr>\n",
       "    <tr>\n",
       "      <th>4</th>\n",
       "      <td>11.000000</td>\n",
       "      <td>10.226855</td>\n",
       "      <td>0.817388</td>\n",
       "      <td>0.185337</td>\n",
       "      <td>14</td>\n",
       "      <td>1</td>\n",
       "      <td>1</td>\n",
       "      <td>0</td>\n",
       "      <td>85.6</td>\n",
       "      <td>52.0</td>\n",
       "      <td>...</td>\n",
       "      <td>0.125041</td>\n",
       "      <td>19.064066</td>\n",
       "      <td>12.289275</td>\n",
       "      <td>52.863636</td>\n",
       "      <td>6.202555</td>\n",
       "      <td>0</td>\n",
       "      <td>0.343872</td>\n",
       "      <td>0.125041</td>\n",
       "      <td>19.064066</td>\n",
       "      <td>12.289275</td>\n",
       "    </tr>\n",
       "    <tr>\n",
       "      <th>...</th>\n",
       "      <td>...</td>\n",
       "      <td>...</td>\n",
       "      <td>...</td>\n",
       "      <td>...</td>\n",
       "      <td>...</td>\n",
       "      <td>...</td>\n",
       "      <td>...</td>\n",
       "      <td>...</td>\n",
       "      <td>...</td>\n",
       "      <td>...</td>\n",
       "      <td>...</td>\n",
       "      <td>...</td>\n",
       "      <td>...</td>\n",
       "      <td>...</td>\n",
       "      <td>...</td>\n",
       "      <td>...</td>\n",
       "      <td>...</td>\n",
       "      <td>...</td>\n",
       "      <td>...</td>\n",
       "      <td>...</td>\n",
       "      <td>...</td>\n",
       "    </tr>\n",
       "    <tr>\n",
       "      <th>10352</th>\n",
       "      <td>6.600000</td>\n",
       "      <td>4.111111</td>\n",
       "      <td>0.491655</td>\n",
       "      <td>0.135222</td>\n",
       "      <td>10</td>\n",
       "      <td>4</td>\n",
       "      <td>5</td>\n",
       "      <td>0</td>\n",
       "      <td>61.5</td>\n",
       "      <td>55.0</td>\n",
       "      <td>...</td>\n",
       "      <td>0.146082</td>\n",
       "      <td>20.208780</td>\n",
       "      <td>6.481897</td>\n",
       "      <td>55.000000</td>\n",
       "      <td>6.206102</td>\n",
       "      <td>0</td>\n",
       "      <td>0.319189</td>\n",
       "      <td>0.146082</td>\n",
       "      <td>20.208780</td>\n",
       "      <td>6.481897</td>\n",
       "    </tr>\n",
       "    <tr>\n",
       "      <th>10353</th>\n",
       "      <td>29.000000</td>\n",
       "      <td>2.000000</td>\n",
       "      <td>0.469562</td>\n",
       "      <td>0.135597</td>\n",
       "      <td>10</td>\n",
       "      <td>4</td>\n",
       "      <td>3</td>\n",
       "      <td>0</td>\n",
       "      <td>62.4</td>\n",
       "      <td>55.0</td>\n",
       "      <td>...</td>\n",
       "      <td>0.146082</td>\n",
       "      <td>20.208780</td>\n",
       "      <td>6.481897</td>\n",
       "      <td>55.000000</td>\n",
       "      <td>6.206102</td>\n",
       "      <td>0</td>\n",
       "      <td>0.319189</td>\n",
       "      <td>0.146082</td>\n",
       "      <td>20.208780</td>\n",
       "      <td>6.481897</td>\n",
       "    </tr>\n",
       "    <tr>\n",
       "      <th>10354</th>\n",
       "      <td>20.181818</td>\n",
       "      <td>0.250000</td>\n",
       "      <td>0.228434</td>\n",
       "      <td>0.132307</td>\n",
       "      <td>10</td>\n",
       "      <td>4</td>\n",
       "      <td>10</td>\n",
       "      <td>0</td>\n",
       "      <td>62.8</td>\n",
       "      <td>55.0</td>\n",
       "      <td>...</td>\n",
       "      <td>0.146082</td>\n",
       "      <td>20.208780</td>\n",
       "      <td>6.481897</td>\n",
       "      <td>55.000000</td>\n",
       "      <td>6.206102</td>\n",
       "      <td>0</td>\n",
       "      <td>0.319189</td>\n",
       "      <td>0.146082</td>\n",
       "      <td>20.208780</td>\n",
       "      <td>6.481897</td>\n",
       "    </tr>\n",
       "    <tr>\n",
       "      <th>10355</th>\n",
       "      <td>27.166667</td>\n",
       "      <td>9.111111</td>\n",
       "      <td>0.086481</td>\n",
       "      <td>0.070814</td>\n",
       "      <td>10</td>\n",
       "      <td>4</td>\n",
       "      <td>11</td>\n",
       "      <td>0</td>\n",
       "      <td>62.9</td>\n",
       "      <td>55.0</td>\n",
       "      <td>...</td>\n",
       "      <td>0.146082</td>\n",
       "      <td>20.208780</td>\n",
       "      <td>6.481897</td>\n",
       "      <td>55.000000</td>\n",
       "      <td>6.206102</td>\n",
       "      <td>0</td>\n",
       "      <td>0.319189</td>\n",
       "      <td>0.146082</td>\n",
       "      <td>20.208780</td>\n",
       "      <td>6.481897</td>\n",
       "    </tr>\n",
       "    <tr>\n",
       "      <th>10356</th>\n",
       "      <td>13.076923</td>\n",
       "      <td>13.192308</td>\n",
       "      <td>0.410571</td>\n",
       "      <td>0.032917</td>\n",
       "      <td>10</td>\n",
       "      <td>4</td>\n",
       "      <td>7</td>\n",
       "      <td>0</td>\n",
       "      <td>63.5</td>\n",
       "      <td>55.0</td>\n",
       "      <td>...</td>\n",
       "      <td>0.146082</td>\n",
       "      <td>20.208780</td>\n",
       "      <td>6.481897</td>\n",
       "      <td>55.000000</td>\n",
       "      <td>6.206102</td>\n",
       "      <td>0</td>\n",
       "      <td>0.319189</td>\n",
       "      <td>0.146082</td>\n",
       "      <td>20.208780</td>\n",
       "      <td>6.481897</td>\n",
       "    </tr>\n",
       "  </tbody>\n",
       "</table>\n",
       "<p>10357 rows × 103 columns</p>\n",
       "</div>"
      ],
      "text/plain": [
       "            부마성적       모마성적    조교사 점수     기수 점수  거리  군(등급)  번호  주로상태    기록  \\\n",
       "0      20.166667   0.333333  0.260867  0.375748  14      1   3     0  84.3   \n",
       "1      24.312500  18.047619  0.562395  0.013551  14      1   4     0  84.7   \n",
       "2      29.184211  10.226855  0.000000  0.135597  14      1   5     0  85.2   \n",
       "3      18.222222  11.111111  0.254518  0.052286  14      1  10     0  85.3   \n",
       "4      11.000000  10.226855  0.817388  0.185337  14      1   1     0  85.6   \n",
       "...          ...        ...       ...       ...  ..    ...  ..   ...   ...   \n",
       "10352   6.600000   4.111111  0.491655  0.135222  10      4   5     0  61.5   \n",
       "10353  29.000000   2.000000  0.469562  0.135597  10      4   3     0  62.4   \n",
       "10354  20.181818   0.250000  0.228434  0.132307  10      4  10     0  62.8   \n",
       "10355  27.166667   9.111111  0.086481  0.070814  10      4  11     0  62.9   \n",
       "10356  13.076923  13.192308  0.410571  0.032917  10      4   7     0  63.5   \n",
       "\n",
       "       부담중량  ...   기수 점수12     부마성적12     모마성적12     부담중량13     마체중13  \\\n",
       "0      54.5  ...  0.125041  19.064066  12.289275  52.863636  6.202555   \n",
       "1      51.0  ...  0.125041  19.064066  12.289275  52.863636  6.202555   \n",
       "2      52.0  ...  0.125041  19.064066  12.289275  52.863636  6.202555   \n",
       "3      52.0  ...  0.125041  19.064066  12.289275  52.863636  6.202555   \n",
       "4      52.0  ...  0.125041  19.064066  12.289275  52.863636  6.202555   \n",
       "...     ...  ...       ...        ...        ...        ...       ...   \n",
       "10352  55.0  ...  0.146082  20.208780   6.481897  55.000000  6.206102   \n",
       "10353  55.0  ...  0.146082  20.208780   6.481897  55.000000  6.206102   \n",
       "10354  55.0  ...  0.146082  20.208780   6.481897  55.000000  6.206102   \n",
       "10355  55.0  ...  0.146082  20.208780   6.481897  55.000000  6.206102   \n",
       "10356  55.0  ...  0.146082  20.208780   6.481897  55.000000  6.206102   \n",
       "\n",
       "       순위 점수13  조교사 점수13   기수 점수13     부마성적13     모마성적13  \n",
       "0            0  0.343872  0.125041  19.064066  12.289275  \n",
       "1            0  0.343872  0.125041  19.064066  12.289275  \n",
       "2            0  0.343872  0.125041  19.064066  12.289275  \n",
       "3            0  0.343872  0.125041  19.064066  12.289275  \n",
       "4            0  0.343872  0.125041  19.064066  12.289275  \n",
       "...        ...       ...       ...        ...        ...  \n",
       "10352        0  0.319189  0.146082  20.208780   6.481897  \n",
       "10353        0  0.319189  0.146082  20.208780   6.481897  \n",
       "10354        0  0.319189  0.146082  20.208780   6.481897  \n",
       "10355        0  0.319189  0.146082  20.208780   6.481897  \n",
       "10356        0  0.319189  0.146082  20.208780   6.481897  \n",
       "\n",
       "[10357 rows x 103 columns]"
      ]
     },
     "execution_count": 41,
     "metadata": {},
     "output_type": "execute_result"
    }
   ],
   "source": [
    "data_DF.drop(columns = \"순위\", axis=1)"
   ]
  },
  {
   "cell_type": "markdown",
   "metadata": {
    "id": "2ZV-r6qRXg4A"
   },
   "source": [
    "# Origin Machine Learning Modeling"
   ]
  },
  {
   "cell_type": "code",
   "execution_count": 42,
   "metadata": {
    "id": "ylJMb4K7kM63"
   },
   "outputs": [],
   "source": [
    "# 종속변수 / 독리변수 분해\n",
    "y_horse = data_DF[\"기록\"]\n",
    "x_horse = data_DF.drop(columns =\"기록\")"
   ]
  },
  {
   "cell_type": "code",
   "execution_count": 43,
   "metadata": {
    "id": "v8iQqwHDeQ2f"
   },
   "outputs": [],
   "source": [
    "# 학습 데이터, 테스트 데이터 분리\n",
    "X_train, X_test, y_train, y_test = train_test_split(x_horse, y_horse, random_state = 10, test_size=0.2)"
   ]
  },
  {
   "cell_type": "code",
   "execution_count": 44,
   "metadata": {
    "colab": {
     "base_uri": "https://localhost:8080/"
    },
    "id": "xOl0R9mwQFDA",
    "outputId": "78db79e4-90d0-46f5-835b-b2346ec9e090"
   },
   "outputs": [
    {
     "name": "stdout",
     "output_type": "stream",
     "text": [
      "train data 8285\n",
      "test data 2072\n",
      "train label 8285\n",
      "test label 2072\n"
     ]
    }
   ],
   "source": [
    "# train / test 확인 \n",
    "print(\"train data\", len(X_train))\n",
    "print(\"test data\", len(X_test))\n",
    "print(\"train label\", len(y_train))\n",
    "print(\"test label\", len(y_test))"
   ]
  },
  {
   "cell_type": "code",
   "execution_count": 45,
   "metadata": {
    "id": "ZbINUTmA2Dew"
   },
   "outputs": [],
   "source": [
    "# Kfold\n",
    "kfold = KFold(n_splits = 5, random_state = 10, shuffle=True)"
   ]
  },
  {
   "cell_type": "markdown",
   "metadata": {
    "id": "c_Hw3h9QWF-8"
   },
   "source": [
    "## Cross Validation Models"
   ]
  },
  {
   "cell_type": "code",
   "execution_count": 46,
   "metadata": {
    "id": "g6F5d9oZpMnq"
   },
   "outputs": [],
   "source": [
    "# cross_val_score 함수화 \n",
    "def regressor_cv(model):\n",
    "    r2_score = cross_val_score(model, X_train, y_train, cv = kfold, scoring = \"r2\")\n",
    "    return r2_score"
   ]
  },
  {
   "cell_type": "code",
   "execution_count": 47,
   "metadata": {
    "colab": {
     "base_uri": "https://localhost:8080/"
    },
    "id": "Px8rl65WQn6Q",
    "outputId": "92d02c8c-fb64-4c17-db9e-624834abc45d"
   },
   "outputs": [
    {
     "name": "stdout",
     "output_type": "stream",
     "text": [
      "RF의 0번 분석 결과 : 0.990993\n",
      "RF의 1번 분석 결과 : 0.992749\n",
      "RF의 2번 분석 결과 : 0.979809\n",
      "RF의 3번 분석 결과 : 0.979807\n",
      "RF의 4번 분석 결과 : 0.989369\n",
      "0.9865452052162414\n"
     ]
    }
   ],
   "source": [
    "# RandomForestRegressor \n",
    "rf = RandomForestRegressor(n_jobs=-1, random_state = 10)\n",
    "sk_rf = regressor_cv(rf)\n",
    "for idx, score in enumerate(sk_rf):\n",
    "    print(f\"RF의 {idx}번 분석 결과 : {score:4f}\")\n",
    "print(sk_rf.mean())"
   ]
  },
  {
   "cell_type": "code",
   "execution_count": 48,
   "metadata": {
    "colab": {
     "base_uri": "https://localhost:8080/"
    },
    "id": "96AxgSldDXzo",
    "outputId": "8b9a1baa-23bb-43d1-edde-d729d68d69e0"
   },
   "outputs": [
    {
     "name": "stdout",
     "output_type": "stream",
     "text": [
      "LGB의 0번 분석 결과 : 0.984923\n",
      "LGB의 1번 분석 결과 : 0.962701\n",
      "LGB의 2번 분석 결과 : 0.969095\n",
      "LGB의 3번 분석 결과 : 0.961700\n",
      "LGB의 4번 분석 결과 : 0.956241\n",
      "0.9669320320850225\n"
     ]
    }
   ],
   "source": [
    "# LGBMRegressor\n",
    "gbm = LGBMRegressor(n_jobs=-1, random_state = 10)\n",
    "sk_gbm = regressor_cv(gbm)\n",
    "for idx, score in enumerate(sk_gbm):\n",
    "    print(f\"LGB의 {idx}번 분석 결과 : {score:4f}\")\n",
    "print(sk_gbm.mean())"
   ]
  },
  {
   "cell_type": "code",
   "execution_count": 49,
   "metadata": {
    "colab": {
     "base_uri": "https://localhost:8080/"
    },
    "id": "jwJMzjZhQvKi",
    "outputId": "90add0dc-bb50-4035-fa61-dab2aa59ef01"
   },
   "outputs": [
    {
     "name": "stdout",
     "output_type": "stream",
     "text": [
      "XGB의 0번 분석 결과 : 0.992229\n",
      "XGB의 1번 분석 결과 : 0.989989\n",
      "XGB의 2번 분석 결과 : 0.971547\n",
      "XGB의 3번 분석 결과 : 0.985597\n",
      "XGB의 4번 분석 결과 : 0.985449\n",
      "0.9849620544418803\n"
     ]
    }
   ],
   "source": [
    "# XGBRegressor\n",
    "xgb = XGBRegressor(n_jobs=-1, random_state = 10)\n",
    "sk_xgb = regressor_cv(xgb)\n",
    "for idx, score in enumerate(sk_xgb):\n",
    "    print(f\"XGB의 {idx}번 분석 결과 : {score:4f}\")\n",
    "print(sk_xgb.mean())"
   ]
  },
  {
   "cell_type": "markdown",
   "metadata": {
    "id": "8D9dNxwRQohf"
   },
   "source": [
    "## Parameter check"
   ]
  },
  {
   "cell_type": "markdown",
   "metadata": {
    "id": "UBdJd0P_YGE7"
   },
   "source": [
    "### RandomForestRegressor"
   ]
  },
  {
   "cell_type": "code",
   "execution_count": 50,
   "metadata": {
    "id": "Nj6TB4PSt_yx"
   },
   "outputs": [],
   "source": [
    "def rf_objective (trial):\n",
    "    params = {\n",
    "        \"n_estimators\" : trial.suggest_int(\"n_estimators\", 100, 3000),\n",
    "        \"max_depth\" : trial.suggest_int(\"max_depth\", 1, 100),\n",
    "        \"min_samples_leaf\" : trial.suggest_int(\"min_samples_leaf\", 2, 500),\n",
    "        \"max_features\" : trial.suggest_int(\"max_features\",1, X_train.shape[1])\n",
    "    }\n",
    "    RFC = RandomForestRegressor(n_jobs=-1, random_state=10, **params)\n",
    "    scores =  regressor_cv(RFC)\n",
    "    scores_mean = scores.mean()\n",
    "    return scores_mean"
   ]
  },
  {
   "cell_type": "code",
   "execution_count": 51,
   "metadata": {
    "id": "NfRT4SURyQQT",
    "scrolled": true
   },
   "outputs": [
    {
     "name": "stderr",
     "output_type": "stream",
     "text": [
      "\u001b[32m[I 2022-11-17 20:51:55,452]\u001b[0m A new study created in memory with name: no-name-caab5399-2a19-455e-819c-7685a7ff6610\u001b[0m\n",
      "\u001b[32m[I 2022-11-17 20:52:30,084]\u001b[0m Trial 0 finished with value: 0.9379761955398136 and parameters: {'n_estimators': 335, 'max_depth': 88, 'min_samples_leaf': 219, 'max_features': 81}. Best is trial 0 with value: 0.9379761955398136.\u001b[0m\n",
      "\u001b[32m[I 2022-11-17 20:54:13,687]\u001b[0m Trial 1 finished with value: 0.91796137412496 and parameters: {'n_estimators': 1393, 'max_depth': 70, 'min_samples_leaf': 243, 'max_features': 56}. Best is trial 0 with value: 0.9379761955398136.\u001b[0m\n",
      "\u001b[32m[I 2022-11-17 20:54:40,221]\u001b[0m Trial 2 finished with value: 0.5747270264911839 and parameters: {'n_estimators': 1579, 'max_depth': 31, 'min_samples_leaf': 167, 'max_features': 7}. Best is trial 0 with value: 0.9379761955398136.\u001b[0m\n",
      "\u001b[32m[I 2022-11-17 20:54:51,388]\u001b[0m Trial 3 finished with value: 0.4027201976939714 and parameters: {'n_estimators': 887, 'max_depth': 73, 'min_samples_leaf': 496, 'max_features': 7}. Best is trial 0 with value: 0.9379761955398136.\u001b[0m\n",
      "\u001b[32m[I 2022-11-17 20:58:35,630]\u001b[0m Trial 4 finished with value: 0.9562832881968936 and parameters: {'n_estimators': 1403, 'max_depth': 79, 'min_samples_leaf': 34, 'max_features': 72}. Best is trial 4 with value: 0.9562832881968936.\u001b[0m\n",
      "\u001b[32m[I 2022-11-17 20:58:54,478]\u001b[0m Trial 5 finished with value: 0.7014323912047693 and parameters: {'n_estimators': 625, 'max_depth': 85, 'min_samples_leaf': 291, 'max_features': 18}. Best is trial 4 with value: 0.9562832881968936.\u001b[0m\n",
      "\u001b[32m[I 2022-11-17 20:59:04,890]\u001b[0m Trial 6 finished with value: 0.8007282385280063 and parameters: {'n_estimators': 246, 'max_depth': 8, 'min_samples_leaf': 267, 'max_features': 24}. Best is trial 4 with value: 0.9562832881968936.\u001b[0m\n",
      "\u001b[32m[I 2022-11-17 20:59:13,730]\u001b[0m Trial 7 finished with value: 0.9109895981800094 and parameters: {'n_estimators': 145, 'max_depth': 4, 'min_samples_leaf': 169, 'max_features': 50}. Best is trial 4 with value: 0.9562832881968936.\u001b[0m\n",
      "\u001b[32m[I 2022-11-17 20:59:44,673]\u001b[0m Trial 8 finished with value: 0.6499238407564298 and parameters: {'n_estimators': 1471, 'max_depth': 59, 'min_samples_leaf': 304, 'max_features': 14}. Best is trial 4 with value: 0.9562832881968936.\u001b[0m\n",
      "\u001b[32m[I 2022-11-17 21:01:10,151]\u001b[0m Trial 9 finished with value: 0.807115259777316 and parameters: {'n_estimators': 1955, 'max_depth': 13, 'min_samples_leaf': 406, 'max_features': 37}. Best is trial 4 with value: 0.9562832881968936.\u001b[0m\n"
     ]
    }
   ],
   "source": [
    "rf_study = optuna.create_study(direction = \"maximize\")\n",
    "rf_study.optimize(rf_objective, n_trials = 10)"
   ]
  },
  {
   "cell_type": "code",
   "execution_count": 52,
   "metadata": {
    "id": "2kB3ernRzzCT"
   },
   "outputs": [
    {
     "name": "stdout",
     "output_type": "stream",
     "text": [
      "{'n_estimators': 1403, 'max_depth': 79, 'min_samples_leaf': 34, 'max_features': 72}\n"
     ]
    }
   ],
   "source": [
    "# 최적의 파라미터 추출\n",
    "print(rf_study.best_trial.params)\n",
    "# rf_study_best_estimator_ =  {'n_estimators': 856, 'max_depth': 17, 'min_samples_leaf': 65, 'max_features': 89}"
   ]
  },
  {
   "cell_type": "code",
   "execution_count": 53,
   "metadata": {
    "id": "5NLYtxkQ0LIE"
   },
   "outputs": [
    {
     "name": "stdout",
     "output_type": "stream",
     "text": [
      "RandomForestRegressor R2 : 0.9330577858553949\n"
     ]
    },
    {
     "data": {
      "text/plain": [
       "array([ 78.58711565,  89.38044223, 117.34265581, ..., 113.89780647,\n",
       "        81.22137669,  85.11350132])"
      ]
     },
     "execution_count": 53,
     "metadata": {},
     "output_type": "execute_result"
    }
   ],
   "source": [
    "rf_study_best = RandomForestRegressor(n_jobs=-1, \n",
    "                                      random_state=10, \n",
    "                                      n_estimators = rf_study.best_trial.params[\"n_estimators\"],\n",
    "                                      max_depth = rf_study.best_trial.params[\"max_depth\"],\n",
    "                                      min_samples_leaf = rf_study.best_trial.params[\"min_samples_leaf\"], \n",
    "                                      max_features = rf_study.best_trial.params[\"max_features\"], \n",
    "                                      )\n",
    "rf_study_best.fit(X_train, y_train)\n",
    "rf_study_ypred = rf_study_best.predict(X_test)\n",
    "print(\"RandomForestRegressor R2 :\", r2_score(rf_study_ypred, y_test))\n",
    "rf_study_ypred"
   ]
  },
  {
   "cell_type": "markdown",
   "metadata": {},
   "source": [
    "## 1000m train_test_split"
   ]
  },
  {
   "cell_type": "code",
   "execution_count": 66,
   "metadata": {},
   "outputs": [
    {
     "name": "stdout",
     "output_type": "stream",
     "text": [
      "train data 804\n",
      "test data 202\n",
      "train label 804\n",
      "test label 202\n"
     ]
    }
   ],
   "source": [
    "# 1000 학습 데이터, 테스트 데이터 분리\n",
    "y_horse_10 = data_DF_10[\"기록\"]\n",
    "x_horse_10 = data_DF_10.drop(columns =\"기록\")\n",
    "# 학습 데이터, 테스트 데이터 분리\n",
    "X_train, X_test, y_train, y_test = train_test_split(x_horse_10, y_horse_10, random_state = 10, test_size=0.2)\n",
    "# train / test 확인 \n",
    "print(\"train data\", len(X_train))\n",
    "print(\"test data\", len(X_test))\n",
    "print(\"train label\", len(y_train))\n",
    "print(\"test label\", len(y_test))\n",
    "# Kfold\n",
    "kfold = KFold(n_splits = 5, random_state = 10, shuffle=True)\n",
    "# StratifiedKFold\n",
    "S_kfold = StratifiedKFold(n_splits = 5, random_state = 10, shuffle=True)"
   ]
  },
  {
   "cell_type": "code",
   "execution_count": null,
   "metadata": {
    "scrolled": true
   },
   "outputs": [
    {
     "name": "stderr",
     "output_type": "stream",
     "text": [
      "\u001b[32m[I 2022-11-17 21:22:19,282]\u001b[0m A new study created in memory with name: no-name-f3b582c6-ece0-44ae-9563-50812af38cf8\u001b[0m\n",
      "\u001b[32m[I 2022-11-17 21:22:37,194]\u001b[0m Trial 0 finished with value: -0.0028762489200594653 and parameters: {'n_estimators': 2719, 'max_depth': 37, 'min_samples_leaf': 464, 'max_features': 43}. Best is trial 0 with value: -0.0028762489200594653.\u001b[0m\n",
      "\u001b[32m[I 2022-11-17 21:22:49,066]\u001b[0m Trial 1 finished with value: 0.1104000731037709 and parameters: {'n_estimators': 2348, 'max_depth': 80, 'min_samples_leaf': 150, 'max_features': 10}. Best is trial 1 with value: 0.1104000731037709.\u001b[0m\n",
      "\u001b[32m[I 2022-11-17 21:23:02,553]\u001b[0m Trial 2 finished with value: -0.002875424999675591 and parameters: {'n_estimators': 2857, 'max_depth': 71, 'min_samples_leaf': 480, 'max_features': 26}. Best is trial 1 with value: 0.1104000731037709.\u001b[0m\n",
      "\u001b[32m[I 2022-11-17 21:23:11,615]\u001b[0m Trial 3 finished with value: 0.3571338473764489 and parameters: {'n_estimators': 1502, 'max_depth': 52, 'min_samples_leaf': 98, 'max_features': 31}. Best is trial 3 with value: 0.3571338473764489.\u001b[0m\n",
      "\u001b[32m[I 2022-11-17 21:23:19,708]\u001b[0m Trial 4 finished with value: -0.002894088475998613 and parameters: {'n_estimators': 1582, 'max_depth': 10, 'min_samples_leaf': 282, 'max_features': 50}. Best is trial 3 with value: 0.3571338473764489.\u001b[0m\n",
      "\u001b[32m[I 2022-11-17 21:23:31,912]\u001b[0m Trial 5 finished with value: -0.002878747194234821 and parameters: {'n_estimators': 2582, 'max_depth': 95, 'min_samples_leaf': 490, 'max_features': 45}. Best is trial 3 with value: 0.3571338473764489.\u001b[0m\n",
      "\u001b[32m[I 2022-11-17 21:23:36,126]\u001b[0m Trial 6 finished with value: 0.46916479530893646 and parameters: {'n_estimators': 553, 'max_depth': 78, 'min_samples_leaf': 61, 'max_features': 35}. Best is trial 6 with value: 0.46916479530893646.\u001b[0m\n",
      "\u001b[32m[I 2022-11-17 21:23:40,090]\u001b[0m Trial 7 finished with value: 0.40825772704254015 and parameters: {'n_estimators': 548, 'max_depth': 15, 'min_samples_leaf': 191, 'max_features': 78}. Best is trial 6 with value: 0.46916479530893646.\u001b[0m\n",
      "\u001b[32m[I 2022-11-17 21:23:53,062]\u001b[0m Trial 8 finished with value: -0.0028740519988568634 and parameters: {'n_estimators': 2731, 'max_depth': 39, 'min_samples_leaf': 324, 'max_features': 100}. Best is trial 6 with value: 0.46916479530893646.\u001b[0m\n",
      "\u001b[32m[I 2022-11-17 21:24:06,049]\u001b[0m Trial 9 finished with value: 0.6879235443501619 and parameters: {'n_estimators': 708, 'max_depth': 97, 'min_samples_leaf': 17, 'max_features': 88}. Best is trial 9 with value: 0.6879235443501619.\u001b[0m\n",
      "\u001b[32m[I 2022-11-17 21:24:08,234]\u001b[0m Trial 10 finished with value: 0.6985058588217136 and parameters: {'n_estimators': 110, 'max_depth': 97, 'min_samples_leaf': 14, 'max_features': 76}. Best is trial 10 with value: 0.6985058588217136.\u001b[0m\n",
      "\u001b[32m[I 2022-11-17 21:24:10,452]\u001b[0m Trial 11 finished with value: 0.7381341884963423 and parameters: {'n_estimators': 104, 'max_depth': 100, 'min_samples_leaf': 5, 'max_features': 73}. Best is trial 11 with value: 0.7381341884963423.\u001b[0m\n",
      "\u001b[32m[I 2022-11-17 21:24:12,472]\u001b[0m Trial 12 finished with value: 0.7085922442427932 and parameters: {'n_estimators': 112, 'max_depth': 99, 'min_samples_leaf': 11, 'max_features': 72}. Best is trial 11 with value: 0.7381341884963423.\u001b[0m\n",
      "\u001b[32m[I 2022-11-17 21:24:13,597]\u001b[0m Trial 13 finished with value: 0.41673998543955537 and parameters: {'n_estimators': 120, 'max_depth': 65, 'min_samples_leaf': 138, 'max_features': 66}. Best is trial 11 with value: 0.7381341884963423.\u001b[0m\n",
      "\u001b[32m[I 2022-11-17 21:24:19,563]\u001b[0m Trial 14 finished with value: -0.002645460403377564 and parameters: {'n_estimators': 1144, 'max_depth': 86, 'min_samples_leaf': 216, 'max_features': 62}. Best is trial 11 with value: 0.7381341884963423.\u001b[0m\n",
      "\u001b[32m[I 2022-11-17 21:24:24,785]\u001b[0m Trial 15 finished with value: -0.002808412125462656 and parameters: {'n_estimators': 1037, 'max_depth': 60, 'min_samples_leaf': 383, 'max_features': 62}. Best is trial 11 with value: 0.7381341884963423.\u001b[0m\n",
      "\u001b[32m[I 2022-11-17 21:24:42,820]\u001b[0m Trial 16 finished with value: 0.6049078127440731 and parameters: {'n_estimators': 1869, 'max_depth': 86, 'min_samples_leaf': 78, 'max_features': 102}. Best is trial 11 with value: 0.7381341884963423.\u001b[0m\n",
      "\u001b[32m[I 2022-11-17 21:24:50,398]\u001b[0m Trial 17 finished with value: 0.6970290071051458 and parameters: {'n_estimators': 445, 'max_depth': 100, 'min_samples_leaf': 13, 'max_features': 85}. Best is trial 11 with value: 0.7381341884963423.\u001b[0m\n",
      "\u001b[32m[I 2022-11-17 21:24:56,603]\u001b[0m Trial 18 finished with value: 0.4257174418520687 and parameters: {'n_estimators': 953, 'max_depth': 40, 'min_samples_leaf': 132, 'max_features': 67}. Best is trial 11 with value: 0.7381341884963423.\u001b[0m\n",
      "\u001b[32m[I 2022-11-17 21:24:59,587]\u001b[0m Trial 19 finished with value: 0.6216820777583966 and parameters: {'n_estimators': 241, 'max_depth': 23, 'min_samples_leaf': 58, 'max_features': 87}. Best is trial 11 with value: 0.7381341884963423.\u001b[0m\n",
      "\u001b[32m[I 2022-11-17 21:25:04,165]\u001b[0m Trial 20 finished with value: -0.0028576846106595165 and parameters: {'n_estimators': 804, 'max_depth': 89, 'min_samples_leaf': 248, 'max_features': 75}. Best is trial 11 with value: 0.7381341884963423.\u001b[0m\n",
      "\u001b[32m[I 2022-11-17 21:25:08,788]\u001b[0m Trial 21 finished with value: 0.7316525994888946 and parameters: {'n_estimators': 228, 'max_depth': 99, 'min_samples_leaf': 6, 'max_features': 76}. Best is trial 11 with value: 0.7381341884963423.\u001b[0m\n",
      "\u001b[32m[I 2022-11-17 21:25:12,029]\u001b[0m Trial 22 finished with value: 0.5723078308755256 and parameters: {'n_estimators': 313, 'max_depth': 76, 'min_samples_leaf': 57, 'max_features': 56}. Best is trial 11 with value: 0.7381341884963423.\u001b[0m\n",
      "\u001b[32m[I 2022-11-17 21:25:16,091]\u001b[0m Trial 23 finished with value: 0.5344438428927183 and parameters: {'n_estimators': 459, 'max_depth': 88, 'min_samples_leaf': 111, 'max_features': 94}. Best is trial 11 with value: 0.7381341884963423.\u001b[0m\n",
      "\u001b[32m[I 2022-11-17 21:25:32,074]\u001b[0m Trial 24 finished with value: 0.6633530280204489 and parameters: {'n_estimators': 1331, 'max_depth': 91, 'min_samples_leaf': 31, 'max_features': 75}. Best is trial 11 with value: 0.7381341884963423.\u001b[0m\n",
      "\u001b[32m[I 2022-11-17 21:26:15,919]\u001b[0m Trial 25 finished with value: 0.7541249867031682 and parameters: {'n_estimators': 2056, 'max_depth': 81, 'min_samples_leaf': 3, 'max_features': 70}. Best is trial 25 with value: 0.7541249867031682.\u001b[0m\n",
      "\u001b[32m[I 2022-11-17 21:26:28,248]\u001b[0m Trial 26 finished with value: 0.373305801835072 and parameters: {'n_estimators': 2090, 'max_depth': 69, 'min_samples_leaf': 179, 'max_features': 56}. Best is trial 25 with value: 0.7541249867031682.\u001b[0m\n",
      "\u001b[32m[I 2022-11-17 21:26:44,037]\u001b[0m Trial 27 finished with value: 0.5647331265129327 and parameters: {'n_estimators': 1912, 'max_depth': 81, 'min_samples_leaf': 88, 'max_features': 86}. Best is trial 25 with value: 0.7541249867031682.\u001b[0m\n",
      "\u001b[32m[I 2022-11-17 21:26:55,452]\u001b[0m Trial 28 finished with value: 0.08819257811972944 and parameters: {'n_estimators': 2223, 'max_depth': 56, 'min_samples_leaf': 56, 'max_features': 2}. Best is trial 25 with value: 0.7541249867031682.\u001b[0m\n"
     ]
    }
   ],
   "source": [
    "def rf_10_objective (trial):\n",
    "    params = {\n",
    "        \"n_estimators\" : trial.suggest_int(\"n_estimators\", 100, 2000),\n",
    "        \"max_depth\" : trial.suggest_int(\"max_depth\", 1, 100),\n",
    "        \"min_samples_leaf\" : trial.suggest_int(\"min_samples_leaf\", 2, 100),\n",
    "        \"max_features\" : trial.suggest_int(\"max_features\",1, X_train.shape[1])\n",
    "    }\n",
    "    RFC = RandomForestRegressor(n_jobs=-1, random_state=10, **params)\n",
    "    RFC.fit(X_train, y_train)\n",
    "    scores =  regressor_cv(RFC)\n",
    "    scores_mean = scores.mean()\n",
    "    return scores_mean\n",
    "\n",
    "rf_10_study = optuna.create_study(direction = \"maximize\")\n",
    "rf_10_study.optimize(rf_10_objective, n_trials = 50)\n",
    "\n",
    "rf_10_study_best = RandomForestRegressor (n_jobs=-1, \n",
    "                                      random_state=10, \n",
    "                                      n_estimators =rf_10_study.best_trial.params[\"n_estimators\"], \n",
    "                                      max_depth = rf_10_study.best_trial.params[\"max_depth\"],\n",
    "                                      min_samples_leaf = rf_10_study.best_trial.params[\"min_samples_leaf\"], \n",
    "                                      max_features = rf_10_study.best_trial.params[\"max_features\"])\n",
    "rf_10_study_best.fit(X_train, y_train)\n",
    "rf_10_study_ypred = rf_10_study_best.predict(X_test)\n",
    "print(\"RandomForestRegressor R2 :\", r2_score(rf_10_study_ypred, y_test))"
   ]
  },
  {
   "cell_type": "code",
   "execution_count": null,
   "metadata": {},
   "outputs": [],
   "source": [
    "pd.DataFrame(rf_10_study_ypred).describe()"
   ]
  },
  {
   "cell_type": "code",
   "execution_count": null,
   "metadata": {},
   "outputs": [],
   "source": [
    "pd.DataFrame(y_test).describe()"
   ]
  },
  {
   "cell_type": "code",
   "execution_count": null,
   "metadata": {},
   "outputs": [],
   "source": [
    "joblib.dump(rf_10_study_best, \"rf_10_study_best.pkl\")"
   ]
  },
  {
   "cell_type": "markdown",
   "metadata": {},
   "source": [
    "## 1200m train_test_split"
   ]
  },
  {
   "cell_type": "code",
   "execution_count": null,
   "metadata": {},
   "outputs": [],
   "source": [
    "# 1200m 학습 데이터, 테스트 데이터 분리\n",
    "y_horse_12 = data_DF_12[\"기록\"]\n",
    "x_horse_12 = data_DF_12.drop(columns =\"기록\")\n",
    "# 학습 데이터, 테스트 데이터 분리\n",
    "X_train, X_test, y_train, y_test = train_test_split(x_horse_12, y_horse_12, random_state = 10, test_size=0.2)\n",
    "# train / test 확인 \n",
    "print(\"train data\", len(X_train))\n",
    "print(\"test data\", len(X_test))\n",
    "print(\"train label\", len(y_train))\n",
    "print(\"test label\", len(y_test))\n",
    "# Kfold\n",
    "kfold = KFold(n_splits = 5, random_state = 10, shuffle=True)\n",
    "# StratifiedKFold\n",
    "S_kfold = StratifiedKFold(n_splits = 5, random_state = 10, shuffle=True)"
   ]
  },
  {
   "cell_type": "code",
   "execution_count": null,
   "metadata": {},
   "outputs": [],
   "source": [
    "def rf_12_objective (trial):\n",
    "    params = {\n",
    "        \"n_estimators\" : trial.suggest_int(\"n_estimators\", 100, 2000),\n",
    "        \"max_depth\" : trial.suggest_int(\"max_depth\", 1, 100),\n",
    "        \"min_samples_leaf\" : trial.suggest_int(\"min_samples_leaf\", 2, 100),\n",
    "        \"max_features\" : trial.suggest_int(\"max_features\",1, X_train.shape[1])\n",
    "    }\n",
    "    RFC = RandomForestRegressor(n_jobs=-1, random_state=10, **params)\n",
    "    RFC.fit(X_train, y_train)\n",
    "    scores =  regressor_cv(RFC)\n",
    "    scores_mean = scores.mean()\n",
    "    return scores_mean\n",
    "\n",
    "rf_12_study = optuna.create_study(direction = \"maximize\")\n",
    "rf_12_study.optimize(rf_12_objective, n_trials = 50)\n",
    "\n",
    "rf_12_study_best = RandomForestRegressor (n_jobs=-1, \n",
    "                                      random_state=10, \n",
    "                                      n_estimators =rf_12_study.best_trial.params[\"n_estimators\"], \n",
    "                                      max_depth = rf_12_study.best_trial.params[\"max_depth\"],\n",
    "                                      min_samples_leaf = rf_12_study.best_trial.params[\"min_samples_leaf\"], \n",
    "                                      max_features = rf_12_study.best_trial.params[\"max_features\"])\n",
    "rf_12_study_best.fit(X_train, y_train)\n",
    "rf_12_study_ypred = rf_12_study_best.predict(X_test)\n",
    "print(\"RandomForestRegressor R2 :\", r2_score(rf_12_study_ypred, y_test))"
   ]
  },
  {
   "cell_type": "code",
   "execution_count": null,
   "metadata": {},
   "outputs": [],
   "source": [
    "pd.DataFrame(rf_12_study_ypred).describe()"
   ]
  },
  {
   "cell_type": "code",
   "execution_count": null,
   "metadata": {},
   "outputs": [],
   "source": [
    "pd.DataFrame(y_test).describe()"
   ]
  },
  {
   "cell_type": "code",
   "execution_count": null,
   "metadata": {},
   "outputs": [],
   "source": [
    "joblib.dump(rf_12_study_best, \"rf_12_study_best.pkl\")"
   ]
  },
  {
   "cell_type": "markdown",
   "metadata": {},
   "source": [
    "## 1300m train_test_split"
   ]
  },
  {
   "cell_type": "code",
   "execution_count": null,
   "metadata": {},
   "outputs": [],
   "source": [
    "# 1300m 학습 데이터, 테스트 데이터 분리\n",
    "y_horse_13 = data_DF_13[\"기록\"]\n",
    "x_horse_13 = data_DF_13.drop(columns =\"기록\")\n",
    "# 학습 데이터, 테스트 데이터 분리\n",
    "X_train, X_test, y_train, y_test = train_test_split(x_horse_13, y_horse_13, random_state = 10, test_size=0.2)\n",
    "# train / test 확인 \n",
    "print(\"train data\", len(X_train))\n",
    "print(\"test data\", len(X_test))\n",
    "print(\"train label\", len(y_train))\n",
    "print(\"test label\", len(y_test))\n",
    "# Kfold\n",
    "kfold = KFold(n_splits = 5, random_state = 10, shuffle=True)\n",
    "# StratifiedKFold\n",
    "S_kfold = StratifiedKFold(n_splits = 5, random_state = 10, shuffle=True)"
   ]
  },
  {
   "cell_type": "code",
   "execution_count": null,
   "metadata": {},
   "outputs": [],
   "source": [
    "def rf_13_objective (trial):\n",
    "    params = {\n",
    "        \"n_estimators\" : trial.suggest_int(\"n_estimators\", 100, 2000),\n",
    "        \"max_depth\" : trial.suggest_int(\"max_depth\", 1, 100),\n",
    "        \"min_samples_leaf\" : trial.suggest_int(\"min_samples_leaf\", 2, 100),\n",
    "        \"max_features\" : trial.suggest_int(\"max_features\",1, X_train.shape[1])\n",
    "    }\n",
    "    RFC = RandomForestRegressor(n_jobs=-1, random_state=10, **params)\n",
    "    RFC.fit(X_train, y_train)\n",
    "    scores =  regressor_cv(RFC)\n",
    "    scores_mean = scores.mean()\n",
    "    return scores_mean\n",
    "\n",
    "rf_13_study = optuna.create_study(direction = \"maximize\")\n",
    "rf_13_study.optimize(rf_13_objective, n_trials = 50)\n",
    "\n",
    "rf_13_study_best = RandomForestRegressor (n_jobs=-1, \n",
    "                                      random_state=10, \n",
    "                                      n_estimators = rf_13_study.best_trial.params[\"n_estimators\"], \n",
    "                                      max_depth = rf_13_study.best_trial.params[\"max_depth\"],\n",
    "                                      min_samples_leaf = rf_13_study.best_trial.params[\"min_samples_leaf\"], \n",
    "                                      max_features = rf_13_study.best_trial.params[\"max_features\"])\n",
    "rf_13_study_best.fit(X_train, y_train)\n",
    "rf_13_study_ypred = rf_13_study_best.predict(X_test)\n",
    "print(\"RandomForestRegressor R2 :\", r2_score(rf_13_study_ypred, y_test))"
   ]
  },
  {
   "cell_type": "code",
   "execution_count": null,
   "metadata": {},
   "outputs": [],
   "source": [
    "pd.DataFrame(rf_13_study_ypred).describe()"
   ]
  },
  {
   "cell_type": "code",
   "execution_count": null,
   "metadata": {},
   "outputs": [],
   "source": [
    "pd.DataFrame(y_test).describe()"
   ]
  },
  {
   "cell_type": "code",
   "execution_count": null,
   "metadata": {},
   "outputs": [],
   "source": [
    "joblib.dump(rf_13_study_best, \"rf_13_study_best.pkl\")"
   ]
  },
  {
   "cell_type": "markdown",
   "metadata": {},
   "source": [
    "## 1400m train_test_split"
   ]
  },
  {
   "cell_type": "code",
   "execution_count": null,
   "metadata": {},
   "outputs": [],
   "source": [
    "# 1400m 학습 데이터, 테스트 데이터 분리\n",
    "y_horse_14 = data_DF_14[\"기록\"]\n",
    "x_horse_14 = data_DF_14.drop(columns =\"기록\")\n",
    "# 학습 데이터, 테스트 데이터 분리\n",
    "X_train, X_test, y_train, y_test = train_test_split(x_horse_14, y_horse_14, random_state = 10, test_size=0.2)\n",
    "# train / test 확인 \n",
    "print(\"train data\", len(X_train))\n",
    "print(\"test data\", len(X_test))\n",
    "print(\"train label\", len(y_train))\n",
    "print(\"test label\", len(y_test))\n",
    "# Kfold\n",
    "kfold = KFold(n_splits = 5, random_state = 10, shuffle=True)\n",
    "# StratifiedKFold\n",
    "S_kfold = StratifiedKFold(n_splits = 5, random_state = 10, shuffle=True)"
   ]
  },
  {
   "cell_type": "code",
   "execution_count": null,
   "metadata": {},
   "outputs": [],
   "source": [
    "def rf_14_objective (trial):\n",
    "    params = {\n",
    "        \"n_estimators\" : trial.suggest_int(\"n_estimators\", 100, 2000),\n",
    "        \"max_depth\" : trial.suggest_int(\"max_depth\", 1, 100),\n",
    "        \"min_samples_leaf\" : trial.suggest_int(\"min_samples_leaf\", 2, 100),\n",
    "        \"max_features\" : trial.suggest_int(\"max_features\",1, X_train.shape[1])\n",
    "    }\n",
    "    RFC = RandomForestRegressor(n_jobs=-1, random_state=10, **params)\n",
    "    RFC.fit(X_train, y_train)\n",
    "    scores =  regressor_cv(RFC)\n",
    "    scores_mean = scores.mean()\n",
    "    return scores_mean\n",
    "\n",
    "rf_14_study = optuna.create_study(direction = \"maximize\")\n",
    "rf_14_study.optimize(rf_14_objective, n_trials = 50)\n",
    "\n",
    "rf_14_study_best = RandomForestRegressor (n_jobs=-1, \n",
    "                                          random_state=10, \n",
    "                                          n_estimators = rf_14_study.best_trial.params[\"n_estimators\"], \n",
    "                                          max_depth = rf_14_study.best_trial.params[\"max_depth\"],\n",
    "                                          min_samples_leaf = rf_14_study.best_trial.params[\"min_samples_leaf\"], \n",
    "                                          max_features = rf_14_study.best_trial.params[\"max_features\"])\n",
    "rf_14_study_best.fit(X_train, y_train)\n",
    "rf_14_study_ypred = rf_14_study_best.predict(X_test)\n",
    "print(\"RandomForestRegressor R2 :\", r2_score(rf_14_study_ypred, y_test))"
   ]
  },
  {
   "cell_type": "code",
   "execution_count": null,
   "metadata": {},
   "outputs": [],
   "source": [
    "pd.DataFrame(rf_14_study_ypred).describe()"
   ]
  },
  {
   "cell_type": "code",
   "execution_count": null,
   "metadata": {},
   "outputs": [],
   "source": [
    "pd.DataFrame(y_test).describe()"
   ]
  },
  {
   "cell_type": "code",
   "execution_count": null,
   "metadata": {},
   "outputs": [],
   "source": [
    "joblib.dump(rf_14_study_best, \"rf_14_study_best.pkl\")"
   ]
  },
  {
   "cell_type": "markdown",
   "metadata": {},
   "source": [
    "## 1600m train_test_split"
   ]
  },
  {
   "cell_type": "code",
   "execution_count": null,
   "metadata": {},
   "outputs": [],
   "source": [
    "# 1600m 학습 데이터, 테스트 데이터 분리\n",
    "y_horse_16 = data_DF_16[\"기록\"]\n",
    "x_horse_16 = data_DF_16.drop(columns =\"기록\")\n",
    "# 학습 데이터, 테스트 데이터 분리\n",
    "X_train, X_test, y_train, y_test = train_test_split(x_horse_16, y_horse_16, random_state = 10, test_size=0.2)\n",
    "# train / test 확인 \n",
    "print(\"train data\", len(X_train))\n",
    "print(\"test data\", len(X_test))\n",
    "print(\"train label\", len(y_train))\n",
    "print(\"test label\", len(y_test))\n",
    "# Kfold\n",
    "kfold = KFold(n_splits = 5, random_state = 10, shuffle=True)"
   ]
  },
  {
   "cell_type": "code",
   "execution_count": null,
   "metadata": {},
   "outputs": [],
   "source": [
    "def rf_16_objective (trial):\n",
    "    params = {\n",
    "        \"n_estimators\" : trial.suggest_int(\"n_estimators\", 100, 3000),\n",
    "        \"max_depth\" : trial.suggest_int(\"max_depth\", 1, 100),\n",
    "        \"min_samples_leaf\" : trial.suggest_int(\"min_samples_leaf\", 2, 500),\n",
    "        \"max_features\" : trial.suggest_int(\"max_features\",1, X_train.shape[1])\n",
    "    }\n",
    "    RFC = RandomForestRegressor(n_jobs=-1, random_state=10, **params)\n",
    "    RFC.fit(X_train, y_train)\n",
    "    scores =  regressor_cv(RFC)\n",
    "    scores_mean = scores.mean()\n",
    "    return scores_mean\n",
    "\n",
    "rf_16_study = optuna.create_study(direction = \"maximize\")\n",
    "rf_16_study.optimize(rf_16_objective, n_trials = 50)\n",
    "\n",
    "rf_16_study_best = RandomForestRegressor (n_jobs=-1, \n",
    "                                          random_state=10, \n",
    "                                          n_estimators = rf_16_study.best_trial.params[\"n_estimators\"], \n",
    "                                          max_depth = rf_16_study.best_trial.params[\"max_depth\"],\n",
    "                                          min_samples_leaf = rf_16_study.best_trial.params[\"min_samples_leaf\"], \n",
    "                                          max_features = rf_16_study.best_trial.params[\"max_features\"])\n",
    "rf_16_study_best.fit(X_train, y_train)\n",
    "rf_16_study_ypred = rf_16_study_best.predict(X_test)\n",
    "print(\"RandomForestRegressor R2 :\", r2_score(rf_16_study_ypred, y_test))"
   ]
  },
  {
   "cell_type": "code",
   "execution_count": null,
   "metadata": {},
   "outputs": [],
   "source": [
    "pd.DataFrame(rf_16_study_ypred).describe()"
   ]
  },
  {
   "cell_type": "code",
   "execution_count": null,
   "metadata": {},
   "outputs": [],
   "source": [
    "pd.DataFrame(y_test).describe()"
   ]
  },
  {
   "cell_type": "code",
   "execution_count": null,
   "metadata": {},
   "outputs": [],
   "source": [
    "joblib.dump(rf_16_study_best, \"rf_16_study_best.pkl\")"
   ]
  },
  {
   "cell_type": "markdown",
   "metadata": {},
   "source": [
    "## 1700m train_test_split"
   ]
  },
  {
   "cell_type": "code",
   "execution_count": null,
   "metadata": {},
   "outputs": [],
   "source": [
    "# 1700m 학습 데이터, 테스트 데이터 분리\n",
    "y_horse_17 = data_DF_17[\"기록\"]\n",
    "x_horse_17 = data_DF_17.drop(columns =\"기록\")\n",
    "# 학습 데이터, 테스트 데이터 분리\n",
    "X_train, X_test, y_train, y_test = train_test_split(x_horse_17, y_horse_17, random_state = 10, test_size=0.2)\n",
    "# train / test 확인 \n",
    "print(\"train data\", len(X_train))\n",
    "print(\"test data\", len(X_test))\n",
    "print(\"train label\", len(y_train))\n",
    "print(\"test label\", len(y_test))\n",
    "# Kfold\n",
    "kfold = KFold(n_splits = 5, random_state = 10, shuffle=True)"
   ]
  },
  {
   "cell_type": "code",
   "execution_count": null,
   "metadata": {},
   "outputs": [],
   "source": [
    "def rf_17_objective (trial):\n",
    "    params = {\n",
    "        \"n_estimators\" : trial.suggest_int(\"n_estimators\", 100, 3000),\n",
    "        \"max_depth\" : trial.suggest_int(\"max_depth\", 1, 100),\n",
    "        \"min_samples_leaf\" : trial.suggest_int(\"min_samples_leaf\", 2, 500),\n",
    "        \"max_features\" : trial.suggest_int(\"max_features\",1, X_train.shape[1])\n",
    "    }\n",
    "    RFC = RandomForestRegressor(n_jobs=-1, random_state=10, **params)\n",
    "    RFC.fit(X_train, y_train)\n",
    "    scores =  regressor_cv(RFC)\n",
    "    scores_mean = scores.mean()\n",
    "    return scores_mean\n",
    "\n",
    "rf_17_study = optuna.create_study(direction = \"maximize\")\n",
    "rf_17_study.optimize(rf_17_objective, n_trials = 50)\n",
    "\n",
    "rf_17_study_best = RandomForestRegressor (n_jobs=-1, \n",
    "                                          random_state=10, \n",
    "                                          n_estimators = rf_17_study.best_trial.params[\"n_estimators\"], \n",
    "                                          max_depth = rf_17_study.best_trial.params[\"max_depth\"],\n",
    "                                          min_samples_leaf = rf_17_study.best_trial.params[\"min_samples_leaf\"], \n",
    "                                          max_features = rf_17_study.best_trial.params[\"max_features\"])\n",
    "rf_17_study_best.fit(X_train, y_train)\n",
    "rf_17_study_ypred = rf_17_study_best.predict(X_test)\n",
    "print(\"RandomForestRegressor R2 :\", r2_score(rf_17_study_ypred, y_test))"
   ]
  },
  {
   "cell_type": "code",
   "execution_count": null,
   "metadata": {},
   "outputs": [],
   "source": [
    "pd.DataFrame(rf_17_study_ypred).describe()"
   ]
  },
  {
   "cell_type": "code",
   "execution_count": null,
   "metadata": {},
   "outputs": [],
   "source": [
    "pd.DataFrame(y_test).describe()"
   ]
  },
  {
   "cell_type": "code",
   "execution_count": null,
   "metadata": {},
   "outputs": [],
   "source": [
    "joblib.dump(rf_17_study_best, \"rf_17_study_best.pkl\")"
   ]
  },
  {
   "cell_type": "markdown",
   "metadata": {},
   "source": [
    "## 1800m train_test_split\n"
   ]
  },
  {
   "cell_type": "code",
   "execution_count": null,
   "metadata": {},
   "outputs": [],
   "source": [
    "# 1800m 학습 데이터, 테스트 데이터 분리\n",
    "y_horse_18 = data_DF_18[\"기록\"]\n",
    "x_horse_18 = data_DF_18.drop(columns =\"기록\")\n",
    "# 학습 데이터, 테스트 데이터 분리\n",
    "X_train, X_test, y_train, y_test = train_test_split(x_horse_18, y_horse_18, random_state = 10, test_size=0.2)\n",
    "# train / test 확인 \n",
    "print(\"train data\", len(X_train))\n",
    "print(\"test data\", len(X_test))\n",
    "print(\"train label\", len(y_train))\n",
    "print(\"test label\", len(y_test))\n",
    "# Kfold\n",
    "kfold = KFold(n_splits = 5, random_state = 10, shuffle=True)"
   ]
  },
  {
   "cell_type": "code",
   "execution_count": null,
   "metadata": {},
   "outputs": [],
   "source": [
    "def rf_18_objective (trial):\n",
    "    params = {\n",
    "        \"n_estimators\" : trial.suggest_int(\"n_estimators\", 100, 3000),\n",
    "        \"max_depth\" : trial.suggest_int(\"max_depth\", 1, 100),\n",
    "        \"min_samples_leaf\" : trial.suggest_int(\"min_samples_leaf\", 2, 500),\n",
    "        \"max_features\" : trial.suggest_int(\"max_features\",1, X_train.shape[1])\n",
    "    }\n",
    "    RFC = RandomForestRegressor(n_jobs=-1, random_state=10, **params)\n",
    "    RFC.fit(X_train, y_train)\n",
    "    scores =  regressor_cv(RFC)\n",
    "    scores_mean = scores.mean()\n",
    "    return scores_mean\n",
    "\n",
    "rf_18_study = optuna.create_study(direction = \"maximize\")\n",
    "rf_18_study.optimize(rf_18_objective, n_trials = 50)\n",
    "\n",
    "rf_18_study_best = RandomForestRegressor (n_jobs=-1, \n",
    "                                          random_state=10, \n",
    "                                          n_estimators = rf_18_study.best_trial.params[\"n_estimators\"], \n",
    "                                          max_depth = rf_18_study.best_trial.params[\"max_depth\"],\n",
    "                                          min_samples_leaf = rf_18_study.best_trial.params[\"min_samples_leaf\"], \n",
    "                                          max_features = rf_18_study.best_trial.params[\"max_features\"])\n",
    "rf_18_study_best.fit(X_train, y_train)\n",
    "rf_18_study_ypred = rf_18_study_best.predict(X_test)\n",
    "print(\"RandomForestRegressor R2 :\", r2_score(rf_18_study_ypred, y_test))"
   ]
  },
  {
   "cell_type": "code",
   "execution_count": null,
   "metadata": {},
   "outputs": [],
   "source": [
    "pd.DataFrame(rf_18_study_ypred).describe()"
   ]
  },
  {
   "cell_type": "code",
   "execution_count": null,
   "metadata": {},
   "outputs": [],
   "source": [
    "pd.DataFrame(y_test).describe()"
   ]
  },
  {
   "cell_type": "code",
   "execution_count": null,
   "metadata": {},
   "outputs": [],
   "source": [
    "joblib.dump(rf_18_study_best, \"rf_18_study_best.pkl\")"
   ]
  }
 ],
 "metadata": {
  "colab": {
   "provenance": [],
   "toc_visible": true
  },
  "kernelspec": {
   "display_name": "Python 3.8.8",
   "language": "python",
   "name": "python3"
  },
  "language_info": {
   "codemirror_mode": {
    "name": "ipython",
    "version": 3
   },
   "file_extension": ".py",
   "mimetype": "text/x-python",
   "name": "python",
   "nbconvert_exporter": "python",
   "pygments_lexer": "ipython3",
   "version": "3.8.8"
  },
  "vscode": {
   "interpreter": {
    "hash": "443df816ca8b48c8733e4bc28c967fd9649d4d5e864a98e2da4f1120f5b63237"
   }
  }
 },
 "nbformat": 4,
 "nbformat_minor": 1
}
